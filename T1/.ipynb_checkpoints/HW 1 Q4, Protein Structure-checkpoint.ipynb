{
 "cells": [
  {
   "cell_type": "code",
   "execution_count": 31,
   "metadata": {
    "ExecuteTime": {
     "end_time": "2017-09-21T20:29:00.987217",
     "start_time": "2017-09-21T20:28:59.810977"
    },
    "collapsed": true
   },
   "outputs": [],
   "source": [
    "import numpy as np\n",
    "import pandas as pd\n",
    "import numpy.linalg as la\n",
    "import matplotlib.pyplot as plt\n",
    "%matplotlib inline"
   ]
  },
  {
   "cell_type": "code",
   "execution_count": 2,
   "metadata": {
    "ExecuteTime": {
     "end_time": "2017-09-21T20:07:58.876420",
     "start_time": "2017-09-21T20:07:56.374274"
    },
    "collapsed": false
   },
   "outputs": [],
   "source": [
    "data = np.loadtxt(\"CASP.csv\", delimiter = \",\", skiprows = 1)"
   ]
  },
  {
   "cell_type": "code",
   "execution_count": 3,
   "metadata": {
    "ExecuteTime": {
     "end_time": "2017-09-21T20:07:59.386581",
     "start_time": "2017-09-21T20:07:59.345512"
    },
    "collapsed": true
   },
   "outputs": [],
   "source": [
    "y = data[:,0]\n",
    "X = data[:,1:] \n",
    "norm_X = (X-np.mean(X)/np.std(X))\n",
    "b_X = np.zeros((norm_X.shape[0],norm_X.shape[1]+1))\n",
    "b_X[:,:-1] = norm_X"
   ]
  },
  {
   "cell_type": "code",
   "execution_count": 4,
   "metadata": {
    "ExecuteTime": {
     "end_time": "2017-09-21T20:08:00.119871",
     "start_time": "2017-09-21T20:08:00.106868"
    },
    "collapsed": false
   },
   "outputs": [],
   "source": [
    "n = len(y)\n",
    "m = b_X.shape[1]\n",
    "\n",
    "train_y = y[:n*90]\n",
    "test_y = y[n*90:]\n",
    "\n",
    "train_X = b_X[:n*90,:]\n",
    "test_X = b_X[n*90:,:]"
   ]
  },
  {
   "cell_type": "code",
   "execution_count": 5,
   "metadata": {
    "ExecuteTime": {
     "end_time": "2017-09-21T20:08:00.989659",
     "start_time": "2017-09-21T20:08:00.983326"
    },
    "collapsed": false
   },
   "outputs": [],
   "source": [
    "sigma = 1.0\n",
    "t = 10\n",
    "Sig_inv = t*np.eye(m)"
   ]
  },
  {
   "cell_type": "code",
   "execution_count": 7,
   "metadata": {
    "ExecuteTime": {
     "end_time": "2017-09-21T20:08:04.548282",
     "start_time": "2017-09-21T20:08:04.534927"
    },
    "collapsed": true
   },
   "outputs": [],
   "source": [
    "L = la.cholesky(Sig_inv)"
   ]
  },
  {
   "cell_type": "code",
   "execution_count": 22,
   "metadata": {
    "ExecuteTime": {
     "end_time": "2017-09-21T20:14:28.514896",
     "start_time": "2017-09-21T20:14:28.502207"
    },
    "collapsed": false
   },
   "outputs": [],
   "source": [
    "train_X_tilde = np.vstack((train_X/sigma,L))\n",
    "train_y_tilde = np.append(train_y/sigma, np.zeros(m))"
   ]
  },
  {
   "cell_type": "code",
   "execution_count": 28,
   "metadata": {
    "ExecuteTime": {
     "end_time": "2017-09-21T20:19:41.612812",
     "start_time": "2017-09-21T20:19:41.546652"
    },
    "collapsed": false
   },
   "outputs": [],
   "source": [
    "Q, R = la.qr(train_X_tilde)"
   ]
  },
  {
   "cell_type": "code",
   "execution_count": 29,
   "metadata": {
    "ExecuteTime": {
     "end_time": "2017-09-21T20:19:47.759363",
     "start_time": "2017-09-21T20:19:47.739299"
    },
    "collapsed": false
   },
   "outputs": [],
   "source": [
    "p = np.dot(Q.T,train_y_tilde)\n",
    "w_hat = np.dot(la.inv(R),p)"
   ]
  },
  {
   "cell_type": "code",
   "execution_count": 30,
   "metadata": {
    "ExecuteTime": {
     "end_time": "2017-09-21T20:20:06.359882",
     "start_time": "2017-09-21T20:20:06.343406"
    },
    "collapsed": false
   },
   "outputs": [
    {
     "data": {
      "text/plain": [
       "array([  1.34308416e-03,   1.88519687e-03,   1.26299471e+01,\n",
       "        -9.76437769e-02,  -1.98338279e-06,  -2.47087737e-02,\n",
       "        -8.93816049e-05,   1.62440374e-02,   1.37538211e-01,\n",
       "         0.00000000e+00])"
      ]
     },
     "execution_count": 30,
     "metadata": {},
     "output_type": "execute_result"
    }
   ],
   "source": [
    "w_hat"
   ]
  },
  {
   "cell_type": "code",
   "execution_count": null,
   "metadata": {
    "collapsed": true
   },
   "outputs": [],
   "source": []
  }
 ],
 "metadata": {
  "hide_input": false,
  "kernelspec": {
   "display_name": "Python 2",
   "language": "python",
   "name": "python2"
  },
  "language_info": {
   "codemirror_mode": {
    "name": "ipython",
    "version": 2
   },
   "file_extension": ".py",
   "mimetype": "text/x-python",
   "name": "python",
   "nbconvert_exporter": "python",
   "pygments_lexer": "ipython2",
   "version": "2.7.13"
  },
  "latex_envs": {
   "bibliofile": "biblio.bib",
   "cite_by": "apalike",
   "current_citInitial": 1,
   "eqLabelWithNumbers": true,
   "eqNumInitial": 0
  },
  "toc": {
   "toc_cell": false,
   "toc_number_sections": true,
   "toc_threshold": 6,
   "toc_window_display": false
  }
 },
 "nbformat": 4,
 "nbformat_minor": 0
}
